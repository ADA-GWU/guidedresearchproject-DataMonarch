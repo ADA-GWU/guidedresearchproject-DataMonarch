{
 "cells": [
  {
   "cell_type": "code",
   "execution_count": 1,
   "metadata": {},
   "outputs": [],
   "source": [
    "import pandas as pd\n",
    "import numpy as np\n",
    "import matplotlib.pyplot as plt\n",
    "import seaborn as sns"
   ]
  },
  {
   "cell_type": "code",
   "execution_count": 2,
   "metadata": {},
   "outputs": [],
   "source": [
    "data = pd.read_csv('../../data/Backend_logs.csv')\n"
   ]
  },
  {
   "cell_type": "code",
   "execution_count": 3,
   "metadata": {},
   "outputs": [
    {
     "data": {
      "text/html": [
       "<div>\n",
       "<style scoped>\n",
       "    .dataframe tbody tr th:only-of-type {\n",
       "        vertical-align: middle;\n",
       "    }\n",
       "\n",
       "    .dataframe tbody tr th {\n",
       "        vertical-align: top;\n",
       "    }\n",
       "\n",
       "    .dataframe thead th {\n",
       "        text-align: right;\n",
       "    }\n",
       "</style>\n",
       "<table border=\"1\" class=\"dataframe\">\n",
       "  <thead>\n",
       "    <tr style=\"text-align: right;\">\n",
       "      <th></th>\n",
       "      <th>Operation</th>\n",
       "      <th>Request time</th>\n",
       "      <th>Response time</th>\n",
       "    </tr>\n",
       "  </thead>\n",
       "  <tbody>\n",
       "    <tr>\n",
       "      <th>0</th>\n",
       "      <td>GetTrackingData</td>\n",
       "      <td>1/1/2023 10:00:23.000</td>\n",
       "      <td>1/1/2023 10:00:23.300</td>\n",
       "    </tr>\n",
       "    <tr>\n",
       "      <th>1</th>\n",
       "      <td>SetPayment</td>\n",
       "      <td>1/1/2023 10:13:14.230</td>\n",
       "      <td>1/1/2023 10:13:15.697</td>\n",
       "    </tr>\n",
       "    <tr>\n",
       "      <th>2</th>\n",
       "      <td>SetPayment</td>\n",
       "      <td>1/1/2023 10:26:05.460</td>\n",
       "      <td>1/1/2023 10:26:06.410</td>\n",
       "    </tr>\n",
       "    <tr>\n",
       "      <th>3</th>\n",
       "      <td>GetPaymentMethods</td>\n",
       "      <td>1/1/2023 10:38:56.690</td>\n",
       "      <td>1/1/2023 10:38:57.057</td>\n",
       "    </tr>\n",
       "    <tr>\n",
       "      <th>4</th>\n",
       "      <td>SetDeliveryAddress</td>\n",
       "      <td>1/1/2023 10:51:47.920</td>\n",
       "      <td>1/1/2023 10:51:48.620</td>\n",
       "    </tr>\n",
       "  </tbody>\n",
       "</table>\n",
       "</div>"
      ],
      "text/plain": [
       "            Operation           Request time          Response time\n",
       "0     GetTrackingData  1/1/2023 10:00:23.000  1/1/2023 10:00:23.300\n",
       "1          SetPayment  1/1/2023 10:13:14.230  1/1/2023 10:13:15.697\n",
       "2          SetPayment  1/1/2023 10:26:05.460  1/1/2023 10:26:06.410\n",
       "3   GetPaymentMethods  1/1/2023 10:38:56.690  1/1/2023 10:38:57.057\n",
       "4  SetDeliveryAddress  1/1/2023 10:51:47.920  1/1/2023 10:51:48.620"
      ]
     },
     "execution_count": 3,
     "metadata": {},
     "output_type": "execute_result"
    }
   ],
   "source": [
    "data.head()"
   ]
  },
  {
   "cell_type": "code",
   "execution_count": 4,
   "metadata": {},
   "outputs": [
    {
     "data": {
      "text/html": [
       "<div>\n",
       "<style scoped>\n",
       "    .dataframe tbody tr th:only-of-type {\n",
       "        vertical-align: middle;\n",
       "    }\n",
       "\n",
       "    .dataframe tbody tr th {\n",
       "        vertical-align: top;\n",
       "    }\n",
       "\n",
       "    .dataframe thead th {\n",
       "        text-align: right;\n",
       "    }\n",
       "</style>\n",
       "<table border=\"1\" class=\"dataframe\">\n",
       "  <thead>\n",
       "    <tr style=\"text-align: right;\">\n",
       "      <th></th>\n",
       "      <th>Operation</th>\n",
       "      <th>Request time</th>\n",
       "      <th>Response time</th>\n",
       "    </tr>\n",
       "  </thead>\n",
       "  <tbody>\n",
       "    <tr>\n",
       "      <th>count</th>\n",
       "      <td>9999</td>\n",
       "      <td>9999</td>\n",
       "      <td>9999</td>\n",
       "    </tr>\n",
       "    <tr>\n",
       "      <th>unique</th>\n",
       "      <td>14</td>\n",
       "      <td>9998</td>\n",
       "      <td>9997</td>\n",
       "    </tr>\n",
       "    <tr>\n",
       "      <th>top</th>\n",
       "      <td>GetPaymentMethods</td>\n",
       "      <td>##############################################...</td>\n",
       "      <td>0/1/1900 00:00:00.000</td>\n",
       "    </tr>\n",
       "    <tr>\n",
       "      <th>freq</th>\n",
       "      <td>787</td>\n",
       "      <td>2</td>\n",
       "      <td>3</td>\n",
       "    </tr>\n",
       "  </tbody>\n",
       "</table>\n",
       "</div>"
      ],
      "text/plain": [
       "                Operation                                       Request time  \\\n",
       "count                9999                                               9999   \n",
       "unique                 14                                               9998   \n",
       "top     GetPaymentMethods  ##############################################...   \n",
       "freq                  787                                                  2   \n",
       "\n",
       "                Response time  \n",
       "count                    9999  \n",
       "unique                   9997  \n",
       "top     0/1/1900 00:00:00.000  \n",
       "freq                        3  "
      ]
     },
     "execution_count": 4,
     "metadata": {},
     "output_type": "execute_result"
    }
   ],
   "source": [
    "data.describe()"
   ]
  },
  {
   "cell_type": "code",
   "execution_count": 5,
   "metadata": {},
   "outputs": [
    {
     "data": {
      "text/plain": [
       "Operation        0\n",
       "Request time     0\n",
       "Response time    0\n",
       "dtype: int64"
      ]
     },
     "execution_count": 5,
     "metadata": {},
     "output_type": "execute_result"
    }
   ],
   "source": [
    "data.isnull().sum()"
   ]
  },
  {
   "cell_type": "code",
   "execution_count": 6,
   "metadata": {},
   "outputs": [
    {
     "data": {
      "text/plain": [
       "Operation        object\n",
       "Request time     object\n",
       "Response time    object\n",
       "dtype: object"
      ]
     },
     "execution_count": 6,
     "metadata": {},
     "output_type": "execute_result"
    }
   ],
   "source": [
    "data.dtypes"
   ]
  },
  {
   "cell_type": "code",
   "execution_count": 7,
   "metadata": {},
   "outputs": [
    {
     "name": "stdout",
     "output_type": "stream",
     "text": [
      "0\n"
     ]
    }
   ],
   "source": [
    "# check for duplicates in the data\n",
    "print(data.duplicated().sum())"
   ]
  },
  {
   "cell_type": "code",
   "execution_count": 8,
   "metadata": {},
   "outputs": [],
   "source": [
    "# change the data type of the time columns to datetime\n",
    "data['Request time'] = pd.to_datetime(data['Request time'], errors='coerce')\n",
    "data['Response time'] = pd.to_datetime(data['Response time'], errors='coerce')"
   ]
  },
  {
   "cell_type": "code",
   "execution_count": 9,
   "metadata": {},
   "outputs": [
    {
     "data": {
      "text/plain": [
       "Operation        0\n",
       "Request time     4\n",
       "Response time    7\n",
       "dtype: int64"
      ]
     },
     "execution_count": 9,
     "metadata": {},
     "output_type": "execute_result"
    }
   ],
   "source": [
    "data.isnull().sum()"
   ]
  },
  {
   "cell_type": "code",
   "execution_count": 10,
   "metadata": {},
   "outputs": [],
   "source": [
    "request_time = data['Request time']"
   ]
  },
  {
   "cell_type": "code",
   "execution_count": 11,
   "metadata": {},
   "outputs": [],
   "source": [
    "data['Operation time'] = data['Response time'] - data['Request time']"
   ]
  },
  {
   "cell_type": "code",
   "execution_count": 12,
   "metadata": {},
   "outputs": [
    {
     "data": {
      "text/plain": [
       "(array([1.000e+00, 0.000e+00, 0.000e+00, 0.000e+00, 0.000e+00, 0.000e+00,\n",
       "        0.000e+00, 0.000e+00, 0.000e+00, 0.000e+00, 0.000e+00, 0.000e+00,\n",
       "        0.000e+00, 0.000e+00, 0.000e+00, 0.000e+00, 0.000e+00, 0.000e+00,\n",
       "        0.000e+00, 0.000e+00, 0.000e+00, 0.000e+00, 0.000e+00, 0.000e+00,\n",
       "        0.000e+00, 0.000e+00, 0.000e+00, 0.000e+00, 0.000e+00, 0.000e+00,\n",
       "        0.000e+00, 0.000e+00, 0.000e+00, 0.000e+00, 0.000e+00, 0.000e+00,\n",
       "        9.988e+03, 0.000e+00, 0.000e+00, 0.000e+00, 0.000e+00, 0.000e+00,\n",
       "        0.000e+00, 0.000e+00, 0.000e+00, 0.000e+00, 0.000e+00, 0.000e+00,\n",
       "        0.000e+00, 0.000e+00, 0.000e+00, 0.000e+00, 0.000e+00, 0.000e+00,\n",
       "        0.000e+00, 0.000e+00, 0.000e+00, 0.000e+00, 0.000e+00, 0.000e+00,\n",
       "        0.000e+00, 0.000e+00, 0.000e+00, 0.000e+00, 0.000e+00, 0.000e+00,\n",
       "        0.000e+00, 0.000e+00, 0.000e+00, 0.000e+00, 0.000e+00, 0.000e+00,\n",
       "        0.000e+00, 0.000e+00, 0.000e+00, 0.000e+00, 0.000e+00, 0.000e+00,\n",
       "        0.000e+00, 0.000e+00, 0.000e+00, 0.000e+00, 0.000e+00, 0.000e+00,\n",
       "        0.000e+00, 0.000e+00, 0.000e+00, 0.000e+00, 0.000e+00, 0.000e+00,\n",
       "        0.000e+00, 0.000e+00, 0.000e+00, 0.000e+00, 0.000e+00, 0.000e+00,\n",
       "        0.000e+00, 0.000e+00, 0.000e+00, 1.000e+00]),\n",
       " array([-5270399.7   , -5126111.6857, -4981823.6714, -4837535.6571,\n",
       "        -4693247.6428, -4548959.6285, -4404671.6142, -4260383.5999,\n",
       "        -4116095.5856, -3971807.5713, -3827519.557 , -3683231.5427,\n",
       "        -3538943.5284, -3394655.5141, -3250367.4998, -3106079.4855,\n",
       "        -2961791.4712, -2817503.4569, -2673215.4426, -2528927.4283,\n",
       "        -2384639.414 , -2240351.3997, -2096063.3854, -1951775.3711,\n",
       "        -1807487.3568, -1663199.3425, -1518911.3282, -1374623.3139,\n",
       "        -1230335.2996, -1086047.2853,  -941759.271 ,  -797471.2567,\n",
       "         -653183.2424,  -508895.2281,  -364607.2138,  -220319.1995,\n",
       "          -76031.1852,    68256.8291,   212544.8434,   356832.8577,\n",
       "          501120.872 ,   645408.8863,   789696.9006,   933984.9149,\n",
       "         1078272.9292,  1222560.9435,  1366848.9578,  1511136.9721,\n",
       "         1655424.9864,  1799713.0007,  1944001.015 ,  2088289.0293,\n",
       "         2232577.0436,  2376865.0579,  2521153.0722,  2665441.0865,\n",
       "         2809729.1008,  2954017.1151,  3098305.1294,  3242593.1437,\n",
       "         3386881.158 ,  3531169.1723,  3675457.1866,  3819745.2009,\n",
       "         3964033.2152,  4108321.2295,  4252609.2438,  4396897.2581,\n",
       "         4541185.2724,  4685473.2867,  4829761.301 ,  4974049.3153,\n",
       "         5118337.3296,  5262625.3439,  5406913.3582,  5551201.3725,\n",
       "         5695489.3868,  5839777.4011,  5984065.4154,  6128353.4297,\n",
       "         6272641.444 ,  6416929.4583,  6561217.4726,  6705505.4869,\n",
       "         6849793.5012,  6994081.5155,  7138369.5298,  7282657.5441,\n",
       "         7426945.5584,  7571233.5727,  7715521.587 ,  7859809.6013,\n",
       "         8004097.6156,  8148385.6299,  8292673.6442,  8436961.6585,\n",
       "         8581249.6728,  8725537.6871,  8869825.7014,  9014113.7157,\n",
       "         9158401.73  ]),\n",
       " <BarContainer object of 100 artists>)"
      ]
     },
     "execution_count": 12,
     "metadata": {},
     "output_type": "execute_result"
    },
    {
     "data": {
      "image/png": "[encoded data removed]",
      "text/plain": [
       "<Figure size 432x288 with 1 Axes>"
      ]
     },
     "metadata": {
      "needs_background": "light"
     },
     "output_type": "display_data"
    }
   ],
   "source": [
    "plt.hist(data['Operation time'].dt.total_seconds(), bins=100)"
   ]
  },
  {
   "cell_type": "code",
   "execution_count": 13,
   "metadata": {},
   "outputs": [
    {
     "data": {
      "text/plain": [
       "count    9.990000e+03\n",
       "mean     3.924319e+02\n",
       "std      1.057238e+05\n",
       "min     -5.270400e+06\n",
       "25%      4.710000e-01\n",
       "50%      9.500000e-01\n",
       "75%      1.417000e+00\n",
       "max      9.158402e+06\n",
       "Name: Operation time, dtype: float64"
      ]
     },
     "execution_count": 13,
     "metadata": {},
     "output_type": "execute_result"
    }
   ],
   "source": [
    "data['Operation time'].dt.total_seconds().describe()"
   ]
  },
  {
   "cell_type": "code",
   "execution_count": 14,
   "metadata": {},
   "outputs": [
    {
     "data": {
      "text/plain": [
       "{'whiskers': [<matplotlib.lines.Line2D at 0x2a3312f4d90>,\n",
       "  <matplotlib.lines.Line2D at 0x2a3312f5060>],\n",
       " 'caps': [<matplotlib.lines.Line2D at 0x2a3312f53f0>,\n",
       "  <matplotlib.lines.Line2D at 0x2a3312f5600>],\n",
       " 'boxes': [<matplotlib.lines.Line2D at 0x2a3312f4ac0>],\n",
       " 'medians': [<matplotlib.lines.Line2D at 0x2a3312f58d0>],\n",
       " 'fliers': [<matplotlib.lines.Line2D at 0x2a3312f5ba0>],\n",
       " 'means': []}"
      ]
     },
     "execution_count": 14,
     "metadata": {},
     "output_type": "execute_result"
    },
    {
     "data": {
      "image/png": "[encoded data removed]",
      "text/plain": [
       "<Figure size 432x288 with 1 Axes>"
      ]
     },
     "metadata": {
      "needs_background": "light"
     },
     "output_type": "display_data"
    }
   ],
   "source": [
    "plt.boxplot(data['Operation time'], vert=False)"
   ]
  },
  {
   "cell_type": "code",
   "execution_count": 15,
   "metadata": {},
   "outputs": [
    {
     "name": "stdout",
     "output_type": "stream",
     "text": [
      "0 days 00:00:00.946000\n"
     ]
    }
   ],
   "source": [
    "# check for outliers in the operation time \n",
    "Q1 = data['Operation time'].quantile(0.25)\n",
    "Q3 = data['Operation time'].quantile(0.75)\n",
    "IQR = Q3 - Q1\n",
    "print(IQR)"
   ]
  },
  {
   "cell_type": "code",
   "execution_count": 16,
   "metadata": {},
   "outputs": [],
   "source": [
    "data_iqr = data[~((data['Operation time'] < (Q1 - 1.5 * IQR)) |(data['Operation time'] > (Q3 + 1.5 * IQR)))]"
   ]
  },
  {
   "cell_type": "code",
   "execution_count": 26,
   "metadata": {},
   "outputs": [
    {
     "data": {
      "text/plain": [
       "{'whiskers': [<matplotlib.lines.Line2D at 0x2a330f60d60>,\n",
       "  <matplotlib.lines.Line2D at 0x2a330f61030>],\n",
       " 'caps': [<matplotlib.lines.Line2D at 0x2a330f61300>,\n",
       "  <matplotlib.lines.Line2D at 0x2a330f615d0>],\n",
       " 'boxes': [<matplotlib.lines.Line2D at 0x2a330f60a90>],\n",
       " 'medians': [<matplotlib.lines.Line2D at 0x2a330f618a0>],\n",
       " 'fliers': [<matplotlib.lines.Line2D at 0x2a330f61b70>],\n",
       " 'means': []}"
      ]
     },
     "execution_count": 26,
     "metadata": {},
     "output_type": "execute_result"
    },
    {
     "data": {
      "image/png": "[encoded data removed]",
      "text/plain": [
       "<Figure size 432x288 with 1 Axes>"
      ]
     },
     "metadata": {
      "needs_background": "light"
     },
     "output_type": "display_data"
    }
   ],
   "source": [
    "plt.boxplot(data_iqr['Operation time'], vert=False)"
   ]
  },
  {
   "cell_type": "code",
   "execution_count": 27,
   "metadata": {},
   "outputs": [
    {
     "data": {
      "text/plain": [
       "(array([192., 182., 164.,  94., 179., 205., 101., 186., 168.,  89., 155.,\n",
       "        161.,  84., 165., 194., 122., 125., 190., 172.,  96., 155., 149.,\n",
       "         83., 189., 198.,  73., 171., 171.,  81., 193., 161., 158.,  87.,\n",
       "        187., 176.,  94., 185., 166.,  95., 192., 190.,  82., 181., 172.,\n",
       "        125., 126., 167., 190., 102., 171., 185.,  82., 175., 159.,  89.,\n",
       "        164., 170.,  78., 185.,   5.,   7.,   3.,   5.,   6.,   3.,   5.,\n",
       "          2.,   2.,   4.,   2.,   6.,   3.,   3.,   5.,   4.,   2.,   6.,\n",
       "          3.,   7.,   5.,   2.,   2.,   1.,   1.,   8.,   3.,   0.,   7.,\n",
       "          5.,   8.,   1.,   4.,   8.,   3.,   4.,   2.,   2.,   3.,   3.,\n",
       "          3.]),\n",
       " array([0.016  , 0.04417, 0.07234, 0.10051, 0.12868, 0.15685, 0.18502,\n",
       "        0.21319, 0.24136, 0.26953, 0.2977 , 0.32587, 0.35404, 0.38221,\n",
       "        0.41038, 0.43855, 0.46672, 0.49489, 0.52306, 0.55123, 0.5794 ,\n",
       "        0.60757, 0.63574, 0.66391, 0.69208, 0.72025, 0.74842, 0.77659,\n",
       "        0.80476, 0.83293, 0.8611 , 0.88927, 0.91744, 0.94561, 0.97378,\n",
       "        1.00195, 1.03012, 1.05829, 1.08646, 1.11463, 1.1428 , 1.17097,\n",
       "        1.19914, 1.22731, 1.25548, 1.28365, 1.31182, 1.33999, 1.36816,\n",
       "        1.39633, 1.4245 , 1.45267, 1.48084, 1.50901, 1.53718, 1.56535,\n",
       "        1.59352, 1.62169, 1.64986, 1.67803, 1.7062 , 1.73437, 1.76254,\n",
       "        1.79071, 1.81888, 1.84705, 1.87522, 1.90339, 1.93156, 1.95973,\n",
       "        1.9879 , 2.01607, 2.04424, 2.07241, 2.10058, 2.12875, 2.15692,\n",
       "        2.18509, 2.21326, 2.24143, 2.2696 , 2.29777, 2.32594, 2.35411,\n",
       "        2.38228, 2.41045, 2.43862, 2.46679, 2.49496, 2.52313, 2.5513 ,\n",
       "        2.57947, 2.60764, 2.63581, 2.66398, 2.69215, 2.72032, 2.74849,\n",
       "        2.77666, 2.80483, 2.833  ]),\n",
       " <BarContainer object of 100 artists>)"
      ]
     },
     "execution_count": 27,
     "metadata": {},
     "output_type": "execute_result"
    },
    {
     "data": {
      "image/png": "[encoded data removed]",
      "text/plain": [
       "<Figure size 432x288 with 1 Axes>"
      ]
     },
     "metadata": {
      "needs_background": "light"
     },
     "output_type": "display_data"
    }
   ],
   "source": [
    "plt.hist(data_iqr['Operation time'].dt.total_seconds(), bins=100)"
   ]
  },
  {
   "cell_type": "code",
   "execution_count": 28,
   "metadata": {},
   "outputs": [],
   "source": [
    "# remove the data below 10% and above 90% quantile\n",
    "data_1090 = data[(data['Operation time'] > data['Operation time'].quantile(0.1)) & (data['Operation time'] < data['Operation time'].quantile(0.9))]"
   ]
  },
  {
   "cell_type": "code",
   "execution_count": 29,
   "metadata": {},
   "outputs": [
    {
     "data": {
      "text/plain": [
       "(array([189., 187., 168., 155.,  74., 171., 165., 194., 178.,  69., 190.,\n",
       "        172., 171., 156.,  73., 195., 185., 163., 109., 137., 177., 193.,\n",
       "        161.,  85., 160., 187., 176., 190.,  89., 166., 182., 211., 166.,\n",
       "         95., 164., 182., 163., 130., 138., 191., 171., 185.,  82., 175.,\n",
       "        159., 165., 167.,  91., 178.,  89.,   4.,   7.,   2.,   7.,   5.,\n",
       "          5.,   2.,   2.,   4.,   2.,   7.,   2.,   3.,   5.,   4.,   6.,\n",
       "          2.,   6.,   6.,   5.,   2.,   0.,   2.,   8.,   3.,   3.,   4.,\n",
       "          5.,   8.,   2.,   4.,   7.,   4.,   3.,   4.,   1.,   4.,   2.,\n",
       "          5.,   3.,   4.,   2.,   5.,   5.,   5.,   4.,   3.,   7.,   6.,\n",
       "          4.]),\n",
       " array([0.2    , 0.22983, 0.25966, 0.28949, 0.31932, 0.34915, 0.37898,\n",
       "        0.40881, 0.43864, 0.46847, 0.4983 , 0.52813, 0.55796, 0.58779,\n",
       "        0.61762, 0.64745, 0.67728, 0.70711, 0.73694, 0.76677, 0.7966 ,\n",
       "        0.82643, 0.85626, 0.88609, 0.91592, 0.94575, 0.97558, 1.00541,\n",
       "        1.03524, 1.06507, 1.0949 , 1.12473, 1.15456, 1.18439, 1.21422,\n",
       "        1.24405, 1.27388, 1.30371, 1.33354, 1.36337, 1.3932 , 1.42303,\n",
       "        1.45286, 1.48269, 1.51252, 1.54235, 1.57218, 1.60201, 1.63184,\n",
       "        1.66167, 1.6915 , 1.72133, 1.75116, 1.78099, 1.81082, 1.84065,\n",
       "        1.87048, 1.90031, 1.93014, 1.95997, 1.9898 , 2.01963, 2.04946,\n",
       "        2.07929, 2.10912, 2.13895, 2.16878, 2.19861, 2.22844, 2.25827,\n",
       "        2.2881 , 2.31793, 2.34776, 2.37759, 2.40742, 2.43725, 2.46708,\n",
       "        2.49691, 2.52674, 2.55657, 2.5864 , 2.61623, 2.64606, 2.67589,\n",
       "        2.70572, 2.73555, 2.76538, 2.79521, 2.82504, 2.85487, 2.8847 ,\n",
       "        2.91453, 2.94436, 2.97419, 3.00402, 3.03385, 3.06368, 3.09351,\n",
       "        3.12334, 3.15317, 3.183  ]),\n",
       " <BarContainer object of 100 artists>)"
      ]
     },
     "execution_count": 29,
     "metadata": {},
     "output_type": "execute_result"
    },
    {
     "data": {
      "image/png": "[encoded data removed]",
      "text/plain": [
       "<Figure size 432x288 with 1 Axes>"
      ]
     },
     "metadata": {
      "needs_background": "light"
     },
     "output_type": "display_data"
    }
   ],
   "source": [
    "plt.hist(data_1090['Operation time'].dt.total_seconds(), bins=100)"
   ]
  },
  {
   "cell_type": "code",
   "execution_count": 18,
   "metadata": {},
   "outputs": [
    {
     "data": {
      "text/plain": [
       "GetPaymentMethods     787\n",
       "GetTrackingData       742\n",
       "GetOrderList          739\n",
       "GetItem               736\n",
       "Login                 733\n",
       "ModifyItem            732\n",
       "GetOrder              727\n",
       "SendNotification      711\n",
       "ModifyOrder           709\n",
       "AddItemToOrder        699\n",
       "SetPayment            689\n",
       "GetPaymentList        682\n",
       "SetDeliveryAddress    664\n",
       "GetItemList           649\n",
       "Name: Operation, dtype: int64"
      ]
     },
     "execution_count": 18,
     "metadata": {},
     "output_type": "execute_result"
    }
   ],
   "source": [
    "data['Operation'].value_counts()"
   ]
  },
  {
   "cell_type": "code",
   "execution_count": 19,
   "metadata": {},
   "outputs": [
    {
     "data": {
      "text/plain": [
       "(array([1.000e+00, 0.000e+00, 0.000e+00, 9.988e+03, 0.000e+00, 0.000e+00,\n",
       "        0.000e+00, 0.000e+00, 0.000e+00, 1.000e+00]),\n",
       " array([-5270399.7  , -3827519.557, -2384639.414,  -941759.271,\n",
       "          501120.872,  1944001.015,  3386881.158,  4829761.301,\n",
       "         6272641.444,  7715521.587,  9158401.73 ]),\n",
       " <BarContainer object of 10 artists>)"
      ]
     },
     "execution_count": 19,
     "metadata": {},
     "output_type": "execute_result"
    },
    {
     "data": {
      "image/png": "[encoded data removed]",
      "text/plain": [
       "<Figure size 432x288 with 1 Axes>"
      ]
     },
     "metadata": {
      "needs_background": "light"
     },
     "output_type": "display_data"
    }
   ],
   "source": [
    "plt.hist(data['Operation time'].dt.total_seconds())"
   ]
  },
  {
   "cell_type": "code",
   "execution_count": 20,
   "metadata": {},
   "outputs": [],
   "source": [
    "ot_min = data['Operation time'].min()\n",
    "ot_max = data['Operation time'].max()\n",
    "\n",
    "# remove the minimum and maximum values from the operation time \n",
    "data_ot = data[~((data['Operation time'] == ot_min) |(data['Operation time'] == ot_max))]"
   ]
  },
  {
   "cell_type": "code",
   "execution_count": 23,
   "metadata": {},
   "outputs": [
    {
     "data": {
      "text/plain": [
       "(array([9.987e+03, 0.000e+00, 0.000e+00, 0.000e+00, 0.000e+00, 0.000e+00,\n",
       "        0.000e+00, 0.000e+00, 0.000e+00, 1.000e+00]),\n",
       " array([1.60000000e-02, 1.79998480e+03, 3.59995360e+03, 5.39992240e+03,\n",
       "        7.19989120e+03, 8.99986000e+03, 1.07998288e+04, 1.25997976e+04,\n",
       "        1.43997664e+04, 1.61997352e+04, 1.79997040e+04]),\n",
       " <BarContainer object of 10 artists>)"
      ]
     },
     "execution_count": 23,
     "metadata": {},
     "output_type": "execute_result"
    },
    {
     "data": {
      "image/png": "[encoded data removed]",
      "text/plain": [
       "<Figure size 432x288 with 1 Axes>"
      ]
     },
     "metadata": {
      "needs_background": "light"
     },
     "output_type": "display_data"
    }
   ],
   "source": [
    "plt.hist(data_ot['Operation time'].dt.total_seconds())"
   ]
  },
  {
   "cell_type": "code",
   "execution_count": 24,
   "metadata": {},
   "outputs": [
    {
     "data": {
      "text/plain": [
       "{'whiskers': [<matplotlib.lines.Line2D at 0x2a3315acf10>,\n",
       "  <matplotlib.lines.Line2D at 0x2a3315ad1e0>],\n",
       " 'caps': [<matplotlib.lines.Line2D at 0x2a3315ad4b0>,\n",
       "  <matplotlib.lines.Line2D at 0x2a3315ad780>],\n",
       " 'boxes': [<matplotlib.lines.Line2D at 0x2a3315acc40>],\n",
       " 'medians': [<matplotlib.lines.Line2D at 0x2a3315ada50>],\n",
       " 'fliers': [<matplotlib.lines.Line2D at 0x2a3315add20>],\n",
       " 'means': []}"
      ]
     },
     "execution_count": 24,
     "metadata": {},
     "output_type": "execute_result"
    },
    {
     "data": {
      "image/png": "[encoded data removed]",
      "text/plain": [
       "<Figure size 432x288 with 1 Axes>"
      ]
     },
     "metadata": {
      "needs_background": "light"
     },
     "output_type": "display_data"
    }
   ],
   "source": [
    "plt.boxplot(data_ot['Operation time'], vert=False)"
   ]
  },
  {
   "cell_type": "code",
   "execution_count": 30,
   "metadata": {},
   "outputs": [],
   "source": [
    "sns.displot(x='Operation time', data=data_iqr, hue='Operation')"
   ]
  },
  {
   "cell_type": "code",
   "execution_count": null,
   "metadata": {},
   "outputs": [],
   "source": [
    "# plot the data using box and whiskers plot in maptlplotlib\n",
    "\n",
    "plt.boxplot(data['Response time'], vert=False)"
   ]
  },
  {
   "cell_type": "code",
   "execution_count": null,
   "metadata": {},
   "outputs": [],
   "source": [
    "# "
   ]
  },
  {
   "cell_type": "code",
   "execution_count": 53,
   "metadata": {},
   "outputs": [
    {
     "data": {
      "text/plain": [
       "(array([1002., 1000.,  999., 1000.,  999., 1000., 1000.,  999., 1000.,\n",
       "        1000.]),\n",
       " array([   0. ,  999.6, 1999.2, 2998.8, 3998.4, 4998. , 5997.6, 6997.2,\n",
       "        7996.8, 8996.4, 9996. ]),\n",
       " <BarContainer object of 10 artists>)"
      ]
     },
     "execution_count": 53,
     "metadata": {},
     "output_type": "execute_result"
    },
    {
     "name": "stdout",
     "output_type": "stream",
     "text": [
      "Error in callback <function flush_figures at 0x000001D3C0D96830> (for post_execute):\n"
     ]
    },
    {
     "ename": "KeyboardInterrupt",
     "evalue": "",
     "output_type": "error",
     "traceback": [
      "\u001b[1;31m---------------------------------------------------------------------------\u001b[0m",
      "\u001b[1;31mKeyboardInterrupt\u001b[0m                         Traceback (most recent call last)",
      "File \u001b[1;32mc:\\Users\\togru\\anaconda3\\envs\\my_env\\lib\\site-packages\\matplotlib_inline\\backend_inline.py:121\u001b[0m, in \u001b[0;36mflush_figures\u001b[1;34m()\u001b[0m\n\u001b[0;32m    118\u001b[0m \u001b[39mif\u001b[39;00m InlineBackend\u001b[39m.\u001b[39minstance()\u001b[39m.\u001b[39mclose_figures:\n\u001b[0;32m    119\u001b[0m     \u001b[39m# ignore the tracking, just draw and close all figures\u001b[39;00m\n\u001b[0;32m    120\u001b[0m     \u001b[39mtry\u001b[39;00m:\n\u001b[1;32m--> 121\u001b[0m         \u001b[39mreturn\u001b[39;00m show(\u001b[39mTrue\u001b[39;49;00m)\n\u001b[0;32m    122\u001b[0m     \u001b[39mexcept\u001b[39;00m \u001b[39mException\u001b[39;00m \u001b[39mas\u001b[39;00m e:\n\u001b[0;32m    123\u001b[0m         \u001b[39m# safely show traceback if in IPython, else raise\u001b[39;00m\n\u001b[0;32m    124\u001b[0m         ip \u001b[39m=\u001b[39m get_ipython()\n",
      "File \u001b[1;32mc:\\Users\\togru\\anaconda3\\envs\\my_env\\lib\\site-packages\\matplotlib_inline\\backend_inline.py:43\u001b[0m, in \u001b[0;36mshow\u001b[1;34m(close, block)\u001b[0m\n\u001b[0;32m     39\u001b[0m \u001b[39mtry\u001b[39;00m:\n\u001b[0;32m     40\u001b[0m     \u001b[39mfor\u001b[39;00m figure_manager \u001b[39min\u001b[39;00m Gcf\u001b[39m.\u001b[39mget_all_fig_managers():\n\u001b[0;32m     41\u001b[0m         display(\n\u001b[0;32m     42\u001b[0m             figure_manager\u001b[39m.\u001b[39mcanvas\u001b[39m.\u001b[39mfigure,\n\u001b[1;32m---> 43\u001b[0m             metadata\u001b[39m=\u001b[39m_fetch_figure_metadata(figure_manager\u001b[39m.\u001b[39;49mcanvas\u001b[39m.\u001b[39;49mfigure)\n\u001b[0;32m     44\u001b[0m         )\n\u001b[0;32m     45\u001b[0m \u001b[39mfinally\u001b[39;00m:\n\u001b[0;32m     46\u001b[0m     show\u001b[39m.\u001b[39m_to_draw \u001b[39m=\u001b[39m []\n",
      "File \u001b[1;32mc:\\Users\\togru\\anaconda3\\envs\\my_env\\lib\\site-packages\\matplotlib_inline\\backend_inline.py:231\u001b[0m, in \u001b[0;36m_fetch_figure_metadata\u001b[1;34m(fig)\u001b[0m\n\u001b[0;32m    228\u001b[0m \u001b[39m# determine if a background is needed for legibility\u001b[39;00m\n\u001b[0;32m    229\u001b[0m \u001b[39mif\u001b[39;00m _is_transparent(fig\u001b[39m.\u001b[39mget_facecolor()):\n\u001b[0;32m    230\u001b[0m     \u001b[39m# the background is transparent\u001b[39;00m\n\u001b[1;32m--> 231\u001b[0m     ticksLight \u001b[39m=\u001b[39m _is_light([label\u001b[39m.\u001b[39mget_color()\n\u001b[0;32m    232\u001b[0m                             \u001b[39mfor\u001b[39;00m axes \u001b[39min\u001b[39;00m fig\u001b[39m.\u001b[39maxes\n\u001b[0;32m    233\u001b[0m                             \u001b[39mfor\u001b[39;00m axis \u001b[39min\u001b[39;00m (axes\u001b[39m.\u001b[39mxaxis, axes\u001b[39m.\u001b[39myaxis)\n\u001b[0;32m    234\u001b[0m                             \u001b[39mfor\u001b[39;00m label \u001b[39min\u001b[39;00m axis\u001b[39m.\u001b[39mget_ticklabels()])\n\u001b[0;32m    235\u001b[0m     \u001b[39mif\u001b[39;00m ticksLight\u001b[39m.\u001b[39msize \u001b[39mand\u001b[39;00m (ticksLight \u001b[39m==\u001b[39m ticksLight[\u001b[39m0\u001b[39m])\u001b[39m.\u001b[39mall():\n\u001b[0;32m    236\u001b[0m         \u001b[39m# there are one or more tick labels, all with the same lightness\u001b[39;00m\n\u001b[0;32m    237\u001b[0m         \u001b[39mreturn\u001b[39;00m {\u001b[39m'\u001b[39m\u001b[39mneeds_background\u001b[39m\u001b[39m'\u001b[39m: \u001b[39m'\u001b[39m\u001b[39mdark\u001b[39m\u001b[39m'\u001b[39m \u001b[39mif\u001b[39;00m ticksLight[\u001b[39m0\u001b[39m] \u001b[39melse\u001b[39;00m \u001b[39m'\u001b[39m\u001b[39mlight\u001b[39m\u001b[39m'\u001b[39m}\n",
      "File \u001b[1;32mc:\\Users\\togru\\anaconda3\\envs\\my_env\\lib\\site-packages\\matplotlib_inline\\backend_inline.py:234\u001b[0m, in \u001b[0;36m<listcomp>\u001b[1;34m(.0)\u001b[0m\n\u001b[0;32m    228\u001b[0m \u001b[39m# determine if a background is needed for legibility\u001b[39;00m\n\u001b[0;32m    229\u001b[0m \u001b[39mif\u001b[39;00m _is_transparent(fig\u001b[39m.\u001b[39mget_facecolor()):\n\u001b[0;32m    230\u001b[0m     \u001b[39m# the background is transparent\u001b[39;00m\n\u001b[0;32m    231\u001b[0m     ticksLight \u001b[39m=\u001b[39m _is_light([label\u001b[39m.\u001b[39mget_color()\n\u001b[0;32m    232\u001b[0m                             \u001b[39mfor\u001b[39;00m axes \u001b[39min\u001b[39;00m fig\u001b[39m.\u001b[39maxes\n\u001b[0;32m    233\u001b[0m                             \u001b[39mfor\u001b[39;00m axis \u001b[39min\u001b[39;00m (axes\u001b[39m.\u001b[39mxaxis, axes\u001b[39m.\u001b[39myaxis)\n\u001b[1;32m--> 234\u001b[0m                             \u001b[39mfor\u001b[39;00m label \u001b[39min\u001b[39;00m axis\u001b[39m.\u001b[39;49mget_ticklabels()])\n\u001b[0;32m    235\u001b[0m     \u001b[39mif\u001b[39;00m ticksLight\u001b[39m.\u001b[39msize \u001b[39mand\u001b[39;00m (ticksLight \u001b[39m==\u001b[39m ticksLight[\u001b[39m0\u001b[39m])\u001b[39m.\u001b[39mall():\n\u001b[0;32m    236\u001b[0m         \u001b[39m# there are one or more tick labels, all with the same lightness\u001b[39;00m\n\u001b[0;32m    237\u001b[0m         \u001b[39mreturn\u001b[39;00m {\u001b[39m'\u001b[39m\u001b[39mneeds_background\u001b[39m\u001b[39m'\u001b[39m: \u001b[39m'\u001b[39m\u001b[39mdark\u001b[39m\u001b[39m'\u001b[39m \u001b[39mif\u001b[39;00m ticksLight[\u001b[39m0\u001b[39m] \u001b[39melse\u001b[39;00m \u001b[39m'\u001b[39m\u001b[39mlight\u001b[39m\u001b[39m'\u001b[39m}\n",
      "File \u001b[1;32mc:\\Users\\togru\\anaconda3\\envs\\my_env\\lib\\site-packages\\matplotlib\\axis.py:1249\u001b[0m, in \u001b[0;36mAxis.get_ticklabels\u001b[1;34m(self, minor, which)\u001b[0m\n\u001b[0;32m   1247\u001b[0m \u001b[39mif\u001b[39;00m minor:\n\u001b[0;32m   1248\u001b[0m     \u001b[39mreturn\u001b[39;00m \u001b[39mself\u001b[39m\u001b[39m.\u001b[39mget_minorticklabels()\n\u001b[1;32m-> 1249\u001b[0m \u001b[39mreturn\u001b[39;00m \u001b[39mself\u001b[39;49m\u001b[39m.\u001b[39;49mget_majorticklabels()\n",
      "File \u001b[1;32mc:\\Users\\togru\\anaconda3\\envs\\my_env\\lib\\site-packages\\matplotlib\\axis.py:1201\u001b[0m, in \u001b[0;36mAxis.get_majorticklabels\u001b[1;34m(self)\u001b[0m\n\u001b[0;32m   1199\u001b[0m \u001b[39mdef\u001b[39;00m \u001b[39mget_majorticklabels\u001b[39m(\u001b[39mself\u001b[39m):\n\u001b[0;32m   1200\u001b[0m     \u001b[39m\"\"\"Return this Axis' major tick labels, as a list of `~.text.Text`.\"\"\"\u001b[39;00m\n\u001b[1;32m-> 1201\u001b[0m     ticks \u001b[39m=\u001b[39m \u001b[39mself\u001b[39;49m\u001b[39m.\u001b[39;49mget_major_ticks()\n\u001b[0;32m   1202\u001b[0m     labels1 \u001b[39m=\u001b[39m [tick\u001b[39m.\u001b[39mlabel1 \u001b[39mfor\u001b[39;00m tick \u001b[39min\u001b[39;00m ticks \u001b[39mif\u001b[39;00m tick\u001b[39m.\u001b[39mlabel1\u001b[39m.\u001b[39mget_visible()]\n\u001b[0;32m   1203\u001b[0m     labels2 \u001b[39m=\u001b[39m [tick\u001b[39m.\u001b[39mlabel2 \u001b[39mfor\u001b[39;00m tick \u001b[39min\u001b[39;00m ticks \u001b[39mif\u001b[39;00m tick\u001b[39m.\u001b[39mlabel2\u001b[39m.\u001b[39mget_visible()]\n",
      "File \u001b[1;32mc:\\Users\\togru\\anaconda3\\envs\\my_env\\lib\\site-packages\\matplotlib\\axis.py:1375\u001b[0m, in \u001b[0;36mAxis.get_major_ticks\u001b[1;34m(self, numticks)\u001b[0m\n\u001b[0;32m   1371\u001b[0m     numticks \u001b[39m=\u001b[39m \u001b[39mlen\u001b[39m(\u001b[39mself\u001b[39m\u001b[39m.\u001b[39mget_majorticklocs())\n\u001b[0;32m   1373\u001b[0m \u001b[39mwhile\u001b[39;00m \u001b[39mlen\u001b[39m(\u001b[39mself\u001b[39m\u001b[39m.\u001b[39mmajorTicks) \u001b[39m<\u001b[39m numticks:\n\u001b[0;32m   1374\u001b[0m     \u001b[39m# Update the new tick label properties from the old.\u001b[39;00m\n\u001b[1;32m-> 1375\u001b[0m     tick \u001b[39m=\u001b[39m \u001b[39mself\u001b[39;49m\u001b[39m.\u001b[39;49m_get_tick(major\u001b[39m=\u001b[39;49m\u001b[39mTrue\u001b[39;49;00m)\n\u001b[0;32m   1376\u001b[0m     \u001b[39mself\u001b[39m\u001b[39m.\u001b[39mmajorTicks\u001b[39m.\u001b[39mappend(tick)\n\u001b[0;32m   1377\u001b[0m     \u001b[39mself\u001b[39m\u001b[39m.\u001b[39m_copy_tick_props(\u001b[39mself\u001b[39m\u001b[39m.\u001b[39mmajorTicks[\u001b[39m0\u001b[39m], tick)\n",
      "File \u001b[1;32mc:\\Users\\togru\\anaconda3\\envs\\my_env\\lib\\site-packages\\matplotlib\\axis.py:2057\u001b[0m, in \u001b[0;36mXAxis._get_tick\u001b[1;34m(self, major)\u001b[0m\n\u001b[0;32m   2055\u001b[0m \u001b[39melse\u001b[39;00m:\n\u001b[0;32m   2056\u001b[0m     tick_kw \u001b[39m=\u001b[39m \u001b[39mself\u001b[39m\u001b[39m.\u001b[39m_minor_tick_kw\n\u001b[1;32m-> 2057\u001b[0m \u001b[39mreturn\u001b[39;00m XTick(\u001b[39mself\u001b[39m\u001b[39m.\u001b[39maxes, \u001b[39m0\u001b[39m, major\u001b[39m=\u001b[39mmajor, \u001b[39m*\u001b[39m\u001b[39m*\u001b[39mtick_kw)\n",
      "File \u001b[1;32mc:\\Users\\togru\\anaconda3\\envs\\my_env\\lib\\site-packages\\matplotlib\\axis.py:415\u001b[0m, in \u001b[0;36mXTick.__init__\u001b[1;34m(self, *args, **kwargs)\u001b[0m\n\u001b[0;32m    414\u001b[0m \u001b[39mdef\u001b[39;00m \u001b[39m__init__\u001b[39m(\u001b[39mself\u001b[39m, \u001b[39m*\u001b[39margs, \u001b[39m*\u001b[39m\u001b[39m*\u001b[39mkwargs):\n\u001b[1;32m--> 415\u001b[0m     \u001b[39msuper\u001b[39m()\u001b[39m.\u001b[39m\u001b[39m__init__\u001b[39m(\u001b[39m*\u001b[39margs, \u001b[39m*\u001b[39m\u001b[39m*\u001b[39mkwargs)\n\u001b[0;32m    416\u001b[0m     \u001b[39m# x in data coords, y in axes coords\u001b[39;00m\n\u001b[0;32m    417\u001b[0m     ax \u001b[39m=\u001b[39m \u001b[39mself\u001b[39m\u001b[39m.\u001b[39maxes\n",
      "File \u001b[1;32mc:\\Users\\togru\\anaconda3\\envs\\my_env\\lib\\site-packages\\matplotlib\\axis.py:177\u001b[0m, in \u001b[0;36mTick.__init__\u001b[1;34m(self, axes, loc, size, width, color, tickdir, pad, labelsize, labelcolor, zorder, gridOn, tick1On, tick2On, label1On, label2On, major, labelrotation, grid_color, grid_linestyle, grid_linewidth, grid_alpha, **kw)\u001b[0m\n\u001b[0;32m    168\u001b[0m \u001b[39mself\u001b[39m\u001b[39m.\u001b[39mlabel1 \u001b[39m=\u001b[39m mtext\u001b[39m.\u001b[39mText(\n\u001b[0;32m    169\u001b[0m     np\u001b[39m.\u001b[39mnan, np\u001b[39m.\u001b[39mnan,\n\u001b[0;32m    170\u001b[0m     fontsize\u001b[39m=\u001b[39mlabelsize, color\u001b[39m=\u001b[39mlabelcolor, visible\u001b[39m=\u001b[39mlabel1On,\n\u001b[0;32m    171\u001b[0m     rotation\u001b[39m=\u001b[39m\u001b[39mself\u001b[39m\u001b[39m.\u001b[39m_labelrotation[\u001b[39m1\u001b[39m])\n\u001b[0;32m    172\u001b[0m \u001b[39mself\u001b[39m\u001b[39m.\u001b[39mlabel2 \u001b[39m=\u001b[39m mtext\u001b[39m.\u001b[39mText(\n\u001b[0;32m    173\u001b[0m     np\u001b[39m.\u001b[39mnan, np\u001b[39m.\u001b[39mnan,\n\u001b[0;32m    174\u001b[0m     fontsize\u001b[39m=\u001b[39mlabelsize, color\u001b[39m=\u001b[39mlabelcolor, visible\u001b[39m=\u001b[39mlabel2On,\n\u001b[0;32m    175\u001b[0m     rotation\u001b[39m=\u001b[39m\u001b[39mself\u001b[39m\u001b[39m.\u001b[39m_labelrotation[\u001b[39m1\u001b[39m])\n\u001b[1;32m--> 177\u001b[0m \u001b[39mself\u001b[39;49m\u001b[39m.\u001b[39;49m_apply_tickdir(tickdir)\n\u001b[0;32m    179\u001b[0m \u001b[39mfor\u001b[39;00m artist \u001b[39min\u001b[39;00m [\u001b[39mself\u001b[39m\u001b[39m.\u001b[39mtick1line, \u001b[39mself\u001b[39m\u001b[39m.\u001b[39mtick2line, \u001b[39mself\u001b[39m\u001b[39m.\u001b[39mgridline,\n\u001b[0;32m    180\u001b[0m                \u001b[39mself\u001b[39m\u001b[39m.\u001b[39mlabel1, \u001b[39mself\u001b[39m\u001b[39m.\u001b[39mlabel2]:\n\u001b[0;32m    181\u001b[0m     \u001b[39mself\u001b[39m\u001b[39m.\u001b[39m_set_artist_props(artist)\n",
      "File \u001b[1;32mc:\\Users\\togru\\anaconda3\\envs\\my_env\\lib\\site-packages\\matplotlib\\axis.py:450\u001b[0m, in \u001b[0;36mXTick._apply_tickdir\u001b[1;34m(self, tickdir)\u001b[0m\n\u001b[0;32m    444\u001b[0m \u001b[39msuper\u001b[39m()\u001b[39m.\u001b[39m_apply_tickdir(tickdir)\n\u001b[0;32m    445\u001b[0m mark1, mark2 \u001b[39m=\u001b[39m {\n\u001b[0;32m    446\u001b[0m     \u001b[39m'\u001b[39m\u001b[39mout\u001b[39m\u001b[39m'\u001b[39m: (mlines\u001b[39m.\u001b[39mTICKDOWN, mlines\u001b[39m.\u001b[39mTICKUP),\n\u001b[0;32m    447\u001b[0m     \u001b[39m'\u001b[39m\u001b[39min\u001b[39m\u001b[39m'\u001b[39m: (mlines\u001b[39m.\u001b[39mTICKUP, mlines\u001b[39m.\u001b[39mTICKDOWN),\n\u001b[0;32m    448\u001b[0m     \u001b[39m'\u001b[39m\u001b[39minout\u001b[39m\u001b[39m'\u001b[39m: (\u001b[39m'\u001b[39m\u001b[39m|\u001b[39m\u001b[39m'\u001b[39m, \u001b[39m'\u001b[39m\u001b[39m|\u001b[39m\u001b[39m'\u001b[39m),\n\u001b[0;32m    449\u001b[0m }[\u001b[39mself\u001b[39m\u001b[39m.\u001b[39m_tickdir]\n\u001b[1;32m--> 450\u001b[0m \u001b[39mself\u001b[39;49m\u001b[39m.\u001b[39;49mtick1line\u001b[39m.\u001b[39;49mset_marker(mark1)\n\u001b[0;32m    451\u001b[0m \u001b[39mself\u001b[39m\u001b[39m.\u001b[39mtick2line\u001b[39m.\u001b[39mset_marker(mark2)\n",
      "File \u001b[1;32mc:\\Users\\togru\\anaconda3\\envs\\my_env\\lib\\site-packages\\matplotlib\\lines.py:1146\u001b[0m, in \u001b[0;36mLine2D.set_marker\u001b[1;34m(self, marker)\u001b[0m\n\u001b[0;32m   1135\u001b[0m \u001b[39m@docstring\u001b[39m\u001b[39m.\u001b[39minterpd\n\u001b[0;32m   1136\u001b[0m \u001b[39mdef\u001b[39;00m \u001b[39mset_marker\u001b[39m(\u001b[39mself\u001b[39m, marker):\n\u001b[0;32m   1137\u001b[0m     \u001b[39m\"\"\"\u001b[39;00m\n\u001b[0;32m   1138\u001b[0m \u001b[39m    Set the line marker.\u001b[39;00m\n\u001b[0;32m   1139\u001b[0m \n\u001b[1;32m   (...)\u001b[0m\n\u001b[0;32m   1144\u001b[0m \u001b[39m        arguments.\u001b[39;00m\n\u001b[0;32m   1145\u001b[0m \u001b[39m    \"\"\"\u001b[39;00m\n\u001b[1;32m-> 1146\u001b[0m     \u001b[39mself\u001b[39m\u001b[39m.\u001b[39m_marker \u001b[39m=\u001b[39m MarkerStyle(marker, \u001b[39mself\u001b[39;49m\u001b[39m.\u001b[39;49m_marker\u001b[39m.\u001b[39;49mget_fillstyle())\n\u001b[0;32m   1147\u001b[0m     \u001b[39mself\u001b[39m\u001b[39m.\u001b[39mstale \u001b[39m=\u001b[39m \u001b[39mTrue\u001b[39;00m\n",
      "File \u001b[1;32mc:\\Users\\togru\\anaconda3\\envs\\my_env\\lib\\site-packages\\matplotlib\\markers.py:235\u001b[0m, in \u001b[0;36mMarkerStyle.__init__\u001b[1;34m(self, marker, fillstyle)\u001b[0m\n\u001b[0;32m    233\u001b[0m \u001b[39mself\u001b[39m\u001b[39m.\u001b[39m_marker_function \u001b[39m=\u001b[39m \u001b[39mNone\u001b[39;00m\n\u001b[0;32m    234\u001b[0m \u001b[39mself\u001b[39m\u001b[39m.\u001b[39m_set_fillstyle(fillstyle)\n\u001b[1;32m--> 235\u001b[0m \u001b[39mself\u001b[39;49m\u001b[39m.\u001b[39;49m_set_marker(marker)\n",
      "File \u001b[1;32mc:\\Users\\togru\\anaconda3\\envs\\my_env\\lib\\site-packages\\matplotlib\\markers.py:334\u001b[0m, in \u001b[0;36mMarkerStyle._set_marker\u001b[1;34m(self, marker)\u001b[0m\n\u001b[0;32m    332\u001b[0m \u001b[39mif\u001b[39;00m \u001b[39mnot\u001b[39;00m \u001b[39misinstance\u001b[39m(marker, MarkerStyle):\n\u001b[0;32m    333\u001b[0m     \u001b[39mself\u001b[39m\u001b[39m.\u001b[39m_marker \u001b[39m=\u001b[39m marker\n\u001b[1;32m--> 334\u001b[0m     \u001b[39mself\u001b[39;49m\u001b[39m.\u001b[39;49m_recache()\n",
      "File \u001b[1;32mc:\\Users\\togru\\anaconda3\\envs\\my_env\\lib\\site-packages\\matplotlib\\markers.py:251\u001b[0m, in \u001b[0;36mMarkerStyle._recache\u001b[1;34m(self)\u001b[0m\n\u001b[0;32m    247\u001b[0m \u001b[39m# Initial guess: Assume the marker is filled unless the fillstyle is\u001b[39;00m\n\u001b[0;32m    248\u001b[0m \u001b[39m# set to 'none'. The marker function will override this for unfilled\u001b[39;00m\n\u001b[0;32m    249\u001b[0m \u001b[39m# markers.\u001b[39;00m\n\u001b[0;32m    250\u001b[0m \u001b[39mself\u001b[39m\u001b[39m.\u001b[39m_filled \u001b[39m=\u001b[39m \u001b[39mself\u001b[39m\u001b[39m.\u001b[39m_fillstyle \u001b[39m!=\u001b[39m \u001b[39m'\u001b[39m\u001b[39mnone\u001b[39m\u001b[39m'\u001b[39m\n\u001b[1;32m--> 251\u001b[0m \u001b[39mself\u001b[39;49m\u001b[39m.\u001b[39;49m_marker_function()\n",
      "File \u001b[1;32mc:\\Users\\togru\\anaconda3\\envs\\my_env\\lib\\site-packages\\matplotlib\\markers.py:703\u001b[0m, in \u001b[0;36mMarkerStyle._set_tickdown\u001b[1;34m(self)\u001b[0m\n\u001b[0;32m    702\u001b[0m \u001b[39mdef\u001b[39;00m \u001b[39m_set_tickdown\u001b[39m(\u001b[39mself\u001b[39m):\n\u001b[1;32m--> 703\u001b[0m     \u001b[39mself\u001b[39m\u001b[39m.\u001b[39m_transform \u001b[39m=\u001b[39m Affine2D()\u001b[39m.\u001b[39mscale(\u001b[39m1.0\u001b[39m, \u001b[39m-\u001b[39m\u001b[39m1.0\u001b[39m)\n\u001b[0;32m    704\u001b[0m     \u001b[39mself\u001b[39m\u001b[39m.\u001b[39m_snap_threshold \u001b[39m=\u001b[39m \u001b[39m1.0\u001b[39m\n\u001b[0;32m    705\u001b[0m     \u001b[39mself\u001b[39m\u001b[39m.\u001b[39m_filled \u001b[39m=\u001b[39m \u001b[39mFalse\u001b[39;00m\n",
      "File \u001b[1;32mc:\\Users\\togru\\anaconda3\\envs\\my_env\\lib\\site-packages\\matplotlib\\transforms.py:1913\u001b[0m, in \u001b[0;36mAffine2D.__init__\u001b[1;34m(self, matrix, **kwargs)\u001b[0m\n\u001b[0;32m   1910\u001b[0m \u001b[39msuper\u001b[39m()\u001b[39m.\u001b[39m\u001b[39m__init__\u001b[39m(\u001b[39m*\u001b[39m\u001b[39m*\u001b[39mkwargs)\n\u001b[0;32m   1911\u001b[0m \u001b[39mif\u001b[39;00m matrix \u001b[39mis\u001b[39;00m \u001b[39mNone\u001b[39;00m:\n\u001b[0;32m   1912\u001b[0m     \u001b[39m# A bit faster than np.identity(3).\u001b[39;00m\n\u001b[1;32m-> 1913\u001b[0m     matrix \u001b[39m=\u001b[39m IdentityTransform\u001b[39m.\u001b[39;49m_mtx\u001b[39m.\u001b[39;49mcopy()\n\u001b[0;32m   1914\u001b[0m \u001b[39mself\u001b[39m\u001b[39m.\u001b[39m_mtx \u001b[39m=\u001b[39m matrix\u001b[39m.\u001b[39mcopy()\n\u001b[0;32m   1915\u001b[0m \u001b[39mself\u001b[39m\u001b[39m.\u001b[39m_invalid \u001b[39m=\u001b[39m \u001b[39m0\u001b[39m\n",
      "\u001b[1;31mKeyboardInterrupt\u001b[0m: "
     ]
    }
   ],
   "source": [
    "plt.hist(data['Response time'])"
   ]
  }
 ],
 "metadata": {
  "kernelspec": {
   "display_name": "my_env",
   "language": "python",
   "name": "python3"
  },
  "language_info": {
   "codemirror_mode": {
    "name": "ipython",
    "version": 3
   },
   "file_extension": ".py",
   "mimetype": "text/x-python",
   "name": "python",
   "nbconvert_exporter": "python",
   "pygments_lexer": "ipython3",
   "version": "3.10.4"
  },
  "orig_nbformat": 4
 },
 "nbformat": 4,
 "nbformat_minor": 2
}
